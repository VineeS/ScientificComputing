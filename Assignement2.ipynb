{
  "nbformat": 4,
  "nbformat_minor": 0,
  "metadata": {
    "colab": {
      "name": "Assignement2.ipynb",
      "provenance": [],
      "collapsed_sections": []
    },
    "kernelspec": {
      "name": "python3",
      "display_name": "Python 3"
    }
  },
  "cells": [
    {
      "cell_type": "markdown",
      "metadata": {
        "id": "8hUF9YA1amEt",
        "colab_type": "text"
      },
      "source": [
        "#      Assignment 2\n",
        "## Scientific computing I\n",
        "## Harrisburg University of Science and Technology\n",
        "## By Vinee Shukla"
      ]
    },
    {
      "cell_type": "markdown",
      "metadata": {
        "id": "47XhAFVhtNGk",
        "colab_type": "text"
      },
      "source": [
        "\n",
        "# ***Abstract***\n",
        "\n",
        "The main objective of this document is to get a hands-on experience with scientific computing environment using python. This report demonstrate the use of python libraries like NumPy and matplotlib.\n",
        "\n",
        "\n",
        "The report also shows assessing a numerical method at different resolutions. Numerical methods are extremely powerful problem-solving tool. One of the numerical method is numerical integration [4]. The document will mainly be explaining approximating numerical integration of a function using Midpoint rule to determine the area under the curve.\n",
        "\n",
        "\n"
      ]
    },
    {
      "cell_type": "markdown",
      "metadata": {
        "id": "y86zwfuyPH_t",
        "colab_type": "text"
      },
      "source": [
        "# **Introduction**\n",
        "\n",
        "##Numerical Integration\n",
        "\n",
        "The main idea behind numerical integration is to approximate definite integrals, it is often difficult to express the integrals of many functions in closed form and rather than directly evaluating the definite integrals we seek out different techniques of numerical integration.There are mainly three rules to perform this integration trapezoidal rule, midpoint rule and Simpson’s rule. I have used Midpoint rule [1] for the following code. \n",
        "\n",
        "In mathematics it can be represented in the following way: \n",
        "\n",
        "\n",
        "$ \\int_a^b f(x) dx $ \n",
        "\n",
        "\n",
        "If [a,b]  is divided into  N  subintervals, each of length  Δ𝑥 and $𝑚_𝑖$  is the midpoint of the 𝑖th subinterval. The mid-point rule works by approximating the region under the graph of the function, this can be represented as,\n",
        "\n",
        "$ \\int_a^b f(x) dx  $ $\\approx$ $\\sum_{i=1}^{N} f(m_i)\\Delta$$x_k $ $\\approx$ \n",
        "\n",
        "\n",
        "$ {\\Delta x} (f(\\frac{x_0+x_1}{2})+f(\\frac{x_1+x_2}{2})....+ f(\\frac{x_{N-2}+x_{N-1}}{2})+f(\\frac{x_{N-1}+x_{N}}{2}))$\n",
        "\n",
        "\n",
        "The approximations made by midpoint rule are by calculating the sum of areas of rectangles, between the graph of the input function f(x) and the x-axis, whose midpoints are the points on f(x).\n",
        "\n",
        "In this report the convergence of integration is examined for two different functions using different number of rectangles and demonstrates the verification of results."
      ]
    },
    {
      "cell_type": "markdown",
      "metadata": {
        "id": "VGQYcanU5vYI",
        "colab_type": "text"
      },
      "source": [
        "# **Methods** \n",
        "\n",
        "This is the study of numerical integration using midpoint rule to find an approximate solution with an increasing number of rectangles.\n",
        "\n",
        "The code is mainly divided into five parts:\n",
        "1. I have created an integration function which uses midpoint rule to carry out the integration, so that we can get the total area by calculating the sum of areas of rectangles. It takes three arguments\n",
        "\n",
        "  *   A function of one variable to numerically integrate\n",
        "  *   The limits of integration\n",
        "  *   The number of rectangles to use\n",
        "\n",
        "2. Then a main function is created and integration function is been called for the: \n",
        "\n",
        "  * Third order polynomial equation i.e. $f(x) = 3x^3+2x^2+x$\n",
        "\n",
        "  * Given function $s(t) = e^{sin(t)}$\n",
        "\n",
        "   The integration function returns the measured value.\n",
        "\n",
        "3. I have evaluated the integration function for both the functions mentioned in step 2 for different values of N.\n",
        "\n",
        "4. The next part consists of calculating the Absolute Error.\n",
        "\n",
        "5. The last stage is plotting of three subplots for each function mentioned in step 2, Numerical result vs Number of rectangles and Absolute Error vs Number of rectangles."
      ]
    },
    {
      "cell_type": "code",
      "metadata": {
        "id": "mBkL2b-FtOuj",
        "colab_type": "code",
        "outputId": "179a3da4-a1da-4ce9-8b22-9bc5ce2723fb",
        "colab": {
          "base_uri": "https://localhost:8080/",
          "height": 289
        }
      },
      "source": [
        "import numpy as np\n",
        "import matplotlib.pyplot as plt\n",
        "\n",
        "# Function to calculate sum of the areas of rectangles using midpoint rule\n",
        "def midPoint_integration(f, a, b, N):\n",
        "    \"\"\"\n",
        "    Inputs:\n",
        "    f - The function to integrate  V.  \n",
        "    a - Lower limit \n",
        "    b - Upper limit\n",
        "    N - Number of panels between \"a\" and \"b\"\n",
        "    \"\"\"\n",
        "    # Initialization\n",
        "    h = float(b - a) / N\n",
        "    res = 0\n",
        "\n",
        "    # MidPoint rule \n",
        "    for k in range(N):\n",
        "      res += f((a + h/2.0) + k*h)\n",
        "    res *= h\n",
        "    return res\n",
        "\n",
        "\n",
        "\n",
        "\n",
        "if __name__ == '__main__':\n",
        "\n",
        "  #  Third Order Polynomial function\n",
        "    def func(x):\n",
        "        return 3*x**3+2*x**2+x \n",
        "    \n",
        "    def func1(t):\n",
        "        return np.exp(np.sin(t))\n",
        "        \n",
        "    print(\"Measured Values for 3x^3+2x^2+x\")\n",
        "    print(midPoint_integration(func,0,10,10)) \n",
        "    print(midPoint_integration(func,0,10,100)) \n",
        "    print(midPoint_integration(func,0,10,1000))\n",
        "    print(midPoint_integration(func,0,10,10000)) \n",
        "    print(midPoint_integration(func,0,10,100000)) \n",
        "    print(midPoint_integration(func,0,10,1000000))\n",
        "    print(midPoint_integration(func,0,10,10000000))\n",
        "\n",
        "    print(\"Measured Values for e^(sin(t))\")\n",
        "    print(midPoint_integration(func1,0,np.pi,10)) \n",
        "    print(midPoint_integration(func1,0,np.pi,100)) \n",
        "    print(midPoint_integration(func1,0,np.pi,1000))\n",
        "    print(midPoint_integration(func1,0,np.pi,10000)) \n",
        "    print(midPoint_integration(func1,0,np.pi,100000)) \n",
        "    print(midPoint_integration(func1,0,np.pi,1000000))\n",
        "    print(midPoint_integration(func1,0,np.pi,10000000))"
      ],
      "execution_count": 0,
      "outputs": [
        {
          "output_type": "stream",
          "text": [
            "Measured Values for 3x^3+2x^2+x\n",
            "8177.5\n",
            "8216.275000000001\n",
            "8216.662750000007\n",
            "8216.66662750002\n",
            "8216.666666274996\n",
            "8216.666666662764\n",
            "8216.666666667057\n",
            "Measured Values for e^(sin(t))\n",
            "6.2169822045908845\n",
            "6.208840282413958\n",
            "6.208758858178144\n",
            "6.208758043935776\n",
            "6.208758035793367\n",
            "6.2087580357117975\n",
            "6.208758035710921\n"
          ],
          "name": "stdout"
        }
      ]
    },
    {
      "cell_type": "markdown",
      "metadata": {
        "id": "J-6AM8ICBMKz",
        "colab_type": "text"
      },
      "source": [
        "# Absolute error \n",
        "\n",
        "\n",
        "   The absolute error for the integral functions can be calculated by taking the absolute difference between the approximate integrals using $N_i$ and $N_{i+1}$  rectangles. \n",
        "\n",
        "   In the following tables, the first row has the measured value as approximate integral value when N = 10 and true value as the integral value when N = 100 , absolute error is difference between the measured and true value. Then calculated the absolute error for all the values of N from N=10 to N=$10^6$ similarly. For the last row true value corresponds to approximate integral value when N = $10^7$\n",
        "\n",
        "  1. Absolute error for $f(x) = 3x^3+2x^2+x$ \n",
        "\n",
        "  \n",
        " N     |Measured Value   | True Value       | Absolute Error |\n",
        " :---|:---:|:---:|---:\n",
        " 10    |8177.5           |8216.275000000001 |38.775|\n",
        " $10^2$|8216.275000000001|8216.662750000007 |0.38775 |\n",
        " $10^3$|8216.662750000007|8216.66662750002  |0.00387750001 |\n",
        " $10^4$|8216.66662750002 |8216.666666274996 |0.00003877497 |\n",
        " $10^5$|8216.666666274996|8216.666666662764 |3.87768523e-7 |\n",
        " $10^6$|8216.666666662764|8216.666666667057 |4.29281499e-9 |\n",
        "                    ||***Table 1***|\n",
        "\n",
        "\n",
        "\n",
        "2. Absolute error for $s(t) = e^{sin(t)}$\n",
        "\n",
        "\n",
        "N     |Measured Value    | True Value       | Absolute Error |\n",
        ":---|:---:|:---:|---:\n",
        "10    |6.2169822045908845|6.208840282413958 |0.00814192217   |\n",
        "$10^2$|6.208840282413958 |6.208758858178144 |0.00008142423   |\n",
        "$10^3$|6.208758858178144 |6.208758043935776 |0.00008223847   |\n",
        "$10^4$|6.208758043935776 |6.208758035793367 |8.14240941e-9   |\n",
        "$10^5$|6.208758035793367 |6.2087580357117975|8.1569418e-11   |\n",
        "$10^6$|6.2087580357117975|6.208758035710921 |8.766321e-13    |\n",
        "||***Table 2***|\n"
      ]
    },
    {
      "cell_type": "markdown",
      "metadata": {
        "id": "uHIZQXGvI2q8",
        "colab_type": "text"
      },
      "source": [
        "##Single plot consisting of three subplots for $f(x) = 3x^3+2x^2+x$"
      ]
    },
    {
      "cell_type": "code",
      "metadata": {
        "id": "yH9VjOG1DtLA",
        "colab_type": "code",
        "colab": {}
      },
      "source": [
        "# using matplotlib.pyplot.tight_layout() ....ref[3]\n",
        "def plot_subplots(a, fontsize=10):\n",
        "    \n",
        "\n",
        "    plt.suptitle(\"Plot 1\",fontsize = 18)\n",
        "    x = np.linspace(0,10,1000)\n",
        "    y = 3*(x**3)+2*(x**2)+x\n",
        "    function_x.plot(x, y) \n",
        "    function_x.set_xlabel('x', fontsize=fontsize)\n",
        "    function_x.set_ylabel('f(x)', fontsize=fontsize)\n",
        "    function_x.set_title('$f(x) = 3x^3+2x^2+x$', fontsize=fontsize)\n",
        "\n",
        "    \n",
        "    #Absolute Error vs Number of rectangles\n",
        "    y1 = 38.775,0.38775,0.00387750001,0.00003877497,3.87768523e-7,4.29281499e-9\n",
        "    x1=1e1,1e2,1e3,1e4,1e5,1e6\n",
        "    absError.plot(x1, y1)\n",
        "    absError.set_xscale(\"log\")\n",
        "    absError.set_xlabel('N', fontsize=fontsize)\n",
        "    absError.set_ylabel('Absolute Error', fontsize=fontsize)\n",
        "    absError.set_title('Absolute Error vs \\n Number of rectangles for $3x^3+2x^2+x$', \n",
        "                 fontsize=fontsize)\n",
        "\n",
        "    \n",
        "    #Numerical result vs Number of rectangles\n",
        "    y2 =8177.5,8216.275000000001,8216.662750000007,8216.66662750002,8216.666666274996,8216.666666662764\n",
        "    x2 =1e1,1e2,1e3,1e4,1e5,1e6\n",
        "    \n",
        "    numResult_vs_rect.plot(x2, y2)\n",
        "    numResult_vs_rect.set_xscale(\"log\")\n",
        "    numResult_vs_rect.set_xlabel('N', fontsize=fontsize)\n",
        "    numResult_vs_rect.set_ylabel('Integral Values', fontsize=fontsize)\n",
        "    numResult_vs_rect.set_title('Numerical result vs \\n Number of rectangles for $3x^3+2x^2+x$', \n",
        "                 fontsize=fontsize)\n",
        "    "
      ],
      "execution_count": 0,
      "outputs": []
    },
    {
      "cell_type": "code",
      "metadata": {
        "id": "vmgnmEHbDxCX",
        "colab_type": "code",
        "outputId": "d7d11bce-1984-4c84-bfb2-a9d438598e79",
        "colab": {
          "base_uri": "https://localhost:8080/",
          "height": 302
        }
      },
      "source": [
        "fig = plt.figure() \n",
        "\n",
        "\n",
        "\n",
        "function_x = plt.subplot(221)\n",
        "absError = plt.subplot(223)\n",
        "numResult_vs_rect = plt.subplot(222)\n",
        "\n",
        "\n",
        "plot_subplots(function_x)\n",
        "plot_subplots(numResult_vs_rect)\n",
        "plot_subplots(absError)\n",
        "plt.tight_layout()"
      ],
      "execution_count": 0,
      "outputs": [
        {
          "output_type": "display_data",
          "data": {
            "image/png": "[encoded data removed]",
            "text/plain": [
              "<Figure size 432x288 with 3 Axes>"
            ]
          },
          "metadata": {
            "tags": [],
            "needs_background": "light"
          }
        }
      ]
    },
    {
      "cell_type": "markdown",
      "metadata": {
        "id": "ETXkzAT8JdOT",
        "colab_type": "text"
      },
      "source": [
        "##Single plot consisting of three subplots for $s(t) = e^{sin(t)}$ "
      ]
    },
    {
      "cell_type": "code",
      "metadata": {
        "id": "eDp5ZKhRLVog",
        "colab_type": "code",
        "colab": {}
      },
      "source": [
        "#using matplotlib.pyplot.tight_layout() ....ref[3] \n",
        "def plot_subplotsForExp(a, fontsize=10):\n",
        "    \n",
        "    plt.suptitle(\"Plot 2\",fontsize = 18)\n",
        "\n",
        "    x3 = np.linspace(0,np.pi,1000)\n",
        "    y3 = np.exp(np.sin(x3)) \n",
        "    function_esin.plot(x3, y3) \n",
        "    function_esin.set_xlabel('t', fontsize=fontsize)\n",
        "    function_esin.set_ylabel('s(t)', fontsize=fontsize)\n",
        "    function_esin.set_title('$e^{sin(t)}$', fontsize=fontsize)\n",
        "    \n",
        "    y4 = 6.2169822045908845,6.208840282413958,6.208758858178144,6.208758043935776,6.208758035793367,6.2087580357117975\n",
        "    x4 = [1e1,1e2,1e3,1e4,1e5,1e6]\n",
        "    numResult_vs_rect_esin.plot(x4,y4)\n",
        "    numResult_vs_rect_esin.set_xscale(\"log\")\n",
        "    numResult_vs_rect_esin.set_xlabel('N', fontsize=fontsize)\n",
        "    numResult_vs_rect_esin.set_ylabel('Integral Values', fontsize=fontsize)\n",
        "    numResult_vs_rect_esin.set_title('Numerical result vs \\n Number of rectangles $e^{sin(t)}$', \n",
        "                 fontsize=fontsize)\n",
        "\n",
        "    #y5 = 0.00683962782,0.00130229435,0.00138371859,0.00138453283,0.00138454097,0.00138454105\n",
        "    y5 = 0.00814192217,0.00008142423,0.00008223847,8.14240941e-9,8.1569418e-11,8.766321e-13\n",
        "    x5 = 1e1,1e2,1e3,1e4,1e5,1e6\n",
        "    absError_esin.plot(x5, y5)\n",
        "    absError_esin.set_xscale(\"log\")\n",
        "    absError_esin.set_xlabel('N', fontsize=fontsize)\n",
        "    absError_esin.set_ylabel('Absolute Error ', fontsize=fontsize)\n",
        "    absError_esin.set_title('Absolute Error vs \\n Number of rectangles for $e^{sin(t)}$', \n",
        "                 fontsize=fontsize)"
      ],
      "execution_count": 0,
      "outputs": []
    },
    {
      "cell_type": "code",
      "metadata": {
        "id": "Ef5Q7Fz0Lx0z",
        "colab_type": "code",
        "outputId": "e23a9baa-553e-4ac7-f398-1bf88abc4b50",
        "colab": {
          "base_uri": "https://localhost:8080/",
          "height": 302
        }
      },
      "source": [
        "fig = plt.figure()\n",
        "\n",
        "function_esin = plt.subplot(221)\n",
        "numResult_vs_rect_esin = plt.subplot(222)\n",
        "absError_esin = plt.subplot(223)\n",
        "\n",
        "plot_subplotsForExp(function_esin)\n",
        "plot_subplotsForExp(numResult_vs_rect_esin)\n",
        "plot_subplotsForExp(absError_esin)\n",
        "plt.tight_layout()"
      ],
      "execution_count": 0,
      "outputs": [
        {
          "output_type": "display_data",
          "data": {
            "image/png": "[encoded data removed]",
            "text/plain": [
              "<Figure size 432x288 with 3 Axes>"
            ]
          },
          "metadata": {
            "tags": [],
            "needs_background": "light"
          }
        }
      ]
    },
    {
      "cell_type": "markdown",
      "metadata": {
        "id": "4Diqb3yKWig1",
        "colab_type": "text"
      },
      "source": [
        "### **Discussion / Summary**\n",
        "This report gave me a better understanding on how to carry out the numerical integration. The numerical methods are particularly useful to solve complex problem which are otherwise difficult to solve. \n",
        "\n",
        "**First Case**\n",
        "\n",
        " In Methods section **Plot 1** consists three subplots for $f(x) = 3x^3+2x^2+x$ . The first subplot in **Plot 1** represents the original function plotted with enough points over the interval of integration i.e. interval [0,10].\n",
        "\n",
        "The second subplot shows the numerical result vs number of rectangles for the observed values listed in **Table 1**. The third subplot shows the plotting of absolute error vs the number of rectangles. I have discussed below the observations for second and third subplots. \n",
        "\n",
        "I would like to start my observation by calculating the Absolute Error by using a True Value.\n",
        "\n",
        "1. The true value is known and can be calculated as below\n",
        "\n",
        " $\\int_0^{10}(3x^3+2x^2+x)dx$ $= \\frac{x^2(9x^2+8x+6)}{12}+C$ $= \\frac{24650}{3}$$= 8216.666666666667$  --[Eq 1]\n",
        "\n",
        "2. Absolute Error = Measured Value - True Value\n",
        "                  \n",
        "  \n",
        " N|Measured Value | True Value      | Absolute Error |\n",
        " :---|:---:|:---:|---:\n",
        " 10|8177.5           |8216.666666666667|39.1666666667 |\n",
        "$10^2$|8216.275000000001|8216.666666666667|0.39166666666 |\n",
        "$10^3$|8216.662750000007|8216.666666666667|0.00391666666 |\n",
        "$10^4$|8216.66662750002 |8216.666666666667|0.00003916664 |\n",
        "$10^5$|8216.666666274996|8216.666666666667|3.91672074e-7 |\n",
        "$10^6$|8216.666666662764|8216.666666666667|3.90355126e-9 |\n",
        "            |        |***Table 3***|\n",
        "\n",
        "**Observations**: Second subplot shows a huge difference between the measured value at N = 10 and N = 100, while for the higher values of N the difference is lower. As N increases the approximate value i.e. 8216.666666662764(from **Table 1** where N = $10^6$) reaches near to the True value i.e. 8216.666666666667 (Eq 1).\n",
        "\n",
        "Third subplot shows that as the value of N increases the absolute error decreases towards zero. When I compared **Table 1** and **Table 3** (True Solution) for N = 10 the Absolute error is 38.775 and  39.1666666667 respectively. While as we reach N=$10^6$  in **Table 1** the Absolute error is 4.29281499e-9 and in **Table 3** Absolute error is 3.90355126e-9, the difference in absolute errors is 0.391 and 3.8926373e-10 for the respective values of N. It can be seen from comparing the absolute errors that the approximation function outputs are very close to the true solution. Hence, we can conclude that our approximation for area under the curve is very good.\n",
        "\n",
        "**Second Case**\n",
        "\n",
        "The three subplots which are in Methods section i.e. **Plot 2** for $e^{sin(t)}$ . The first subplot in **Plot 2** represents the original function plotted with enough points over the interval of integration i.e. interval [ 0,$\\Pi$ ].\n",
        "\n",
        "The second subplot shows the numerical result vs number of rectangles for the observed values listed in **Table 2**. The third plot shows the plotting of absolute error vs the number of rectangles. I have discussed below the observations for second and third subplots. \n",
        "\n",
        "For the second case I have used my own approach to calculate the true value.\n",
        "\n",
        "\n",
        "1. The step one is to calculate the true value, this will be done by taking the **Mean of the Measured Values** which is: \n",
        "\n",
        "  $\\frac{\\sum Measured\\:Value}{6} = 6.21014257677$ -- [Eq 2]\n",
        "\n",
        "2. Measured Value - True Value = Absolute Error \n",
        "\n",
        "N|Measured Value | True Value      | Absolute Error |\n",
        " :---|:---:|:---:|---:\n",
        "10|6.2169822045908845|6.21014257677|0.00683962782\n",
        " $10^2$|6.208840282413958|6.21014257677|0.00130229435\n",
        " $10^3$|6.208758858178144|6.21014257677|0.00138371859\n",
        " $10^4$|6.208758043935776|6.21014257677|0.00138453283\n",
        " $10^5$|6.208758035793367|6.21014257677|0.00138454097\n",
        " $10^6$|6.2087580357117975|6.21014257677|0.00138454105\n",
        "                |  |***Table 4***|\n",
        "\n",
        "\n",
        "**Observations**: Second subplot shows a similar difference between the measured value at N = 10 and N = 100, while for the higher values of N the difference are lower. As the N increases so does the approximate value i.e. 6.2087580357117975 (from **Table 2** where N = $10^6$) reaches near to the True value i.e. 6.21014257677 [Eq 2] . Also we can see the similarity in difference of absolute errors at N = 10 and N = 100 (from **Table 2**) is of magnitude of $10^2$ that we saw in first case.\n",
        "\n",
        "\n",
        "\n",
        "Third subplot shows that as the value of N increases the absolute error decreases towards zero. When I compared **Table 2** and **Table 4** (own approach true solution) for N = 10 the Absolute error is 0.00814192217 and  0.00138454105 respectively. While as we reach N=$10^6$  in Table 2 the Absolute error is 8.766321e-13 and in **Table 4** Absolute error 0.00138454105, the differences in absolute errors are 0.00130229435 and 0.00138454104 respective values of N. In this case as true solution is the mean value I see a higher absolute error difference. \n",
        "\n",
        "**Concerns**: My concern is though three subplots looks reasonable the Measured value when N = 10 and N = 100 have a huge difference. When I observed this I carried out other numerical integration method i.e. Trapezoidal Rule (Appendix 2) the difference was more when compared to midpoint rule (Appendix 2 - Table 5). For first case it can be seen that the Measured value when N = 10 is 8295.0 and for N = 100 is 8217.449999999966.\n",
        "Similar observation was found for second case as shown in **Appendix 2 - Table 6**. This can conclude that using midpoint rule gives more closer approximation to the true value when compared to trapezoidal rule.\n",
        "\n",
        "Though it may seem that midpoint rule is more precise in our case. My concern is that other rules like trapezoidal rule, do not subdivide uniformly the interval of integration but rather choose selectively where to evaluate the integrand, placing more/less points in high/low, so as to achieve a predefined precision. Then why in this case midpoint rule is more accurate than trapezoidal rule.\n",
        "\n"
      ]
    },
    {
      "cell_type": "markdown",
      "metadata": {
        "id": "OIb29bf3eTWf",
        "colab_type": "text"
      },
      "source": [
        "### **References**\n",
        "\n",
        "[1] Midpoint rule equation retrieved from -   (https://math.libretexts.org/Courses/Mount_Royal_University/MATH_2200%3A_Calculus_for_Scientists_II/2%3A_Techniques_of_Integration/2.5%3A_Numerical_Integration_-_Midpoint%2C_Trapezoid%2C_Simpson's_rule)\n",
        "\n",
        "[2] Trapezoidal rule retrieved from - Numerical Methods for Engineers 7th Edition by Steven Chapra and Raymond P. Canale (pg 603)\n",
        "\n",
        "[3] matplotlib.pyplot.tight_layout retrieved from - Tight Layout guide \n",
        "(https://matplotlib.org/3.2.1/tutorials/intermediate/tight_layout_guide.html)\n",
        "\n",
        "[4] Types of numerical methods retrieved from - Numerical Methods for Engineers 7th Edition by Steven Chapra and Raymond P. Canale.              (pg 4-6,PT1.2)"
      ]
    },
    {
      "cell_type": "markdown",
      "metadata": {
        "id": "vYg10hwdg1HR",
        "colab_type": "text"
      },
      "source": [
        "## **Appendix 1: Code** "
      ]
    },
    {
      "cell_type": "code",
      "metadata": {
        "id": "FWaBygN0hExd",
        "colab_type": "code",
        "outputId": "b67c5881-62ed-4bf5-b646-424c3ed75521",
        "colab": {
          "base_uri": "https://localhost:8080/",
          "height": 493
        }
      },
      "source": [
        "import numpy as np\n",
        "import matplotlib.pyplot as plt\n",
        "\n",
        "\n",
        "def midPoint(f, a, b, N):\n",
        "    \"\"\"\n",
        "    Third Order Polynomial \n",
        "    \n",
        "    Inputs:\n",
        "    f - The function to integrate  V.  \n",
        "    a - Lower limit \n",
        "    b - Upper limit\n",
        "    N - Number of panels between \"a\" and \"b\"\n",
        "    \"\"\"\n",
        "    # Initialization\n",
        "    h = float(b - a) / N\n",
        "    res = 0\n",
        "\n",
        "    for k in range(N):\n",
        "      res += f((a + h/2.0) + k*h)\n",
        "    res *= h\n",
        "    return res\n",
        "\n",
        "\n",
        "def Integrate(f, a, b, N):\n",
        "\n",
        "    \"\"\"\n",
        "    Third Order Polynomial \n",
        "    \n",
        "    Inputs:\n",
        "    f - The function to integrate  V.  \n",
        "    a - Lower limit \n",
        "    b - Upper limit\n",
        "    N - Number of panels between \"a\" and \"b\"\n",
        "    \"\"\"\n",
        "    \n",
        "    # Initialization\n",
        "    h = (b - a) / N\n",
        "    x = a\n",
        "    \n",
        "    # Rule\n",
        "    F = f(a)\n",
        "    for k in range(1, N):\n",
        "        x  = x + h\n",
        "        F += 2*f(x)\n",
        "\n",
        "    return (F + f(b))*h*0.5\n",
        "\n",
        "if __name__ == '__main__':\n",
        "    def func(x):\n",
        "        return 3*x**3+2*x**2+x \n",
        "    \n",
        "    def func1(t):\n",
        "        return np.exp(np.sin(t))\n",
        "        \n",
        "    \n",
        "\n",
        "    print(\"MidPoint Rule for $3*x**3+2*x**2+x$\")\n",
        "    print(midPoint(func,0,10,10)) \n",
        "    print(midPoint(func,0,10,100)) \n",
        "    print(midPoint(func,0,10,1000))\n",
        "    print(midPoint(func,0,10,10000)) \n",
        "    print(midPoint(func,0,10,100000)) \n",
        "    print(midPoint(func,0,10,1000000))\n",
        "   \n",
        "\n",
        "    print(\"MidPoint Rule For np.exp(np.sin(t))\")\n",
        "    print(midPoint(func1,0,np.pi,10)) \n",
        "    print(midPoint(func1,0,np.pi,100)) \n",
        "    print(midPoint(func1,0,np.pi,1000))\n",
        "    print(midPoint(func1,0,np.pi,10000)) \n",
        "    print(midPoint(func1,0,np.pi,100000)) \n",
        "    print(midPoint(func1,0,np.pi,1000000))\n",
        "\n",
        "    print(\"Trapezoidal Rule for $3*x**3+2*x**2+x$\")\n",
        "    \n",
        "    print(Integrate(func,0,10,10)) #8295.0\n",
        "    print(Integrate(func,0,10,100)) #8217.449999999966\n",
        "    print(Integrate(func,0,10,1000))#8216.674499999637\n",
        "    print(Integrate(func,0,10,10000)) #8216.666745001306\n",
        "    print(Integrate(func,0,10,100000)) #8216.66666743609\n",
        "    print(Integrate(func,0,10,1000000)) #8216.666666302972\n",
        "    \n",
        "    print(\"Trapezoidal Rule np.exp(np.sin(t))\")\n",
        "    print(Integrate(func1,0,np.pi,10))  #6.192309212461663\n",
        "    print(Integrate(func1,0,np.pi,100)) #6.208593542304937\n",
        "    print(Integrate(func1,0,np.pi,1000)) #6.208756390777073\n",
        "    print(Integrate(func1,0,np.pi,10000)) #6.208758019261313\n",
        "    print(Integrate(func1,0,np.pi,100000)) #6.2087580355452685\n",
        "    print(Integrate(func1,0,np.pi,1000000)) #6.2087580357218615"
      ],
      "execution_count": 0,
      "outputs": [
        {
          "output_type": "stream",
          "text": [
            "MidPoint Rule for $3*x**3+2*x**2+x$\n",
            "8177.5\n",
            "8216.275000000001\n",
            "8216.662750000007\n",
            "8216.66662750002\n",
            "8216.666666274996\n",
            "8216.666666662764\n",
            "MidPoint Rule For np.exp(np.sin(t))\n",
            "6.2169822045908845\n",
            "6.208840282413958\n",
            "6.208758858178144\n",
            "6.208758043935776\n",
            "6.208758035793367\n",
            "6.2087580357117975\n",
            "Trapezoidal Rule for $3*x**3+2*x**2+x$\n",
            "8295.0\n",
            "8217.449999999966\n",
            "8216.674499999637\n",
            "8216.666745001306\n",
            "8216.66666743609\n",
            "8216.666666302972\n",
            "Trapezoidal Rule np.exp(np.sin(t))\n",
            "6.192309212461663\n",
            "6.208593542304937\n",
            "6.208756390777073\n",
            "6.208758019261313\n",
            "6.2087580355452685\n",
            "6.2087580357218615\n"
          ],
          "name": "stdout"
        }
      ]
    },
    {
      "cell_type": "markdown",
      "metadata": {
        "id": "KrkLL6rrZKir",
        "colab_type": "text"
      },
      "source": [
        "## **Output of individual plots using midpoint rule integration values** "
      ]
    },
    {
      "cell_type": "code",
      "metadata": {
        "id": "-tpDf0Abtbog",
        "colab_type": "code",
        "outputId": "de1f466f-2bfa-4218-ce30-ea76d1d27910",
        "colab": {
          "base_uri": "https://localhost:8080/",
          "height": 299
        }
      },
      "source": [
        "# $3*x**3+2*x**2+x$\n",
        "x1 = np.linspace(0,10,1000)\n",
        "y1 = 3*(x1**3)+2*(x1**2)+x1\n",
        "plt.title(\"$f(x) = 3x^3+2x^2+x$\")\n",
        "plt.xlabel('x')\n",
        "plt.ylabel('f(x)')\n",
        "plt.plot(x1, y1) \n",
        "plt.show()"
      ],
      "execution_count": 0,
      "outputs": [
        {
          "output_type": "display_data",
          "data": {
            "image/png": "[encoded data removed]",
            "text/plain": [
              "<Figure size 432x288 with 1 Axes>"
            ]
          },
          "metadata": {
            "tags": [],
            "needs_background": "light"
          }
        }
      ]
    },
    {
      "cell_type": "code",
      "metadata": {
        "id": "uIhlpUWJtiu2",
        "colab_type": "code",
        "outputId": "827a0ade-b2c4-4e76-cc61-8552ac43ba27",
        "colab": {
          "base_uri": "https://localhost:8080/",
          "height": 297
        }
      },
      "source": [
        "# Numerical result vs number of rectangle for $3*x**3+2*x**2+x$\n",
        "y =8177.5,8216.275000000001,8216.662750000007,8216.66662750002,8216.666666274996,8216.666666662764\n",
        "x =[1e1,1e2,1e3,1e4,1e5,1e6]\n",
        "plt.plot(x,y)\n",
        "plt.xscale(\"log\")\n",
        "plt.title(\"Numerical result vs number of rectangles for $3x^3+2x^2+x$\")\n",
        "plt.xlabel('N')\n",
        "plt.ylabel('Integral Values')\n",
        "plt.tight_layout()"
      ],
      "execution_count": 0,
      "outputs": [
        {
          "output_type": "display_data",
          "data": {
            "image/png": "[encoded data removed]",
            "text/plain": [
              "<Figure size 432x288 with 1 Axes>"
            ]
          },
          "metadata": {
            "tags": [],
            "needs_background": "light"
          }
        }
      ]
    },
    {
      "cell_type": "code",
      "metadata": {
        "id": "HPdse1ji2rHe",
        "colab_type": "code",
        "outputId": "4323f437-81ad-4149-e937-bcd7d487699e",
        "colab": {
          "base_uri": "https://localhost:8080/",
          "height": 303
        }
      },
      "source": [
        "#Absolute Error vs Number of rectangles for $3x^3+2x^2+x$\n",
        "y= 38.775,0.38775,0.00387750001,0.00003877497,3.87768523e-7,4.29281499e-9\n",
        "x=1e1,1e2,1e3,1e4,1e5,1e6\n",
        "plt.plot(x, y)\n",
        "plt.xscale(\"log\")\n",
        "plt.xlabel('N')\n",
        "plt.ylabel('Integral Values')\n",
        "plt.title('Absolute Error vs Number of rectangles for $3x^3+2x^2+x$')\n",
        "                 \n",
        "plt.show()"
      ],
      "execution_count": 0,
      "outputs": [
        {
          "output_type": "display_data",
          "data": {
            "image/png": "[encoded data removed]",
            "text/plain": [
              "<Figure size 432x288 with 1 Axes>"
            ]
          },
          "metadata": {
            "tags": [],
            "needs_background": "light"
          }
        }
      ]
    },
    {
      "cell_type": "code",
      "metadata": {
        "id": "DE2bP8NpxJVc",
        "colab_type": "code",
        "outputId": "f45b1b67-b04a-49cd-fa49-18dd8d9f55a3",
        "colab": {
          "base_uri": "https://localhost:8080/",
          "height": 298
        }
      },
      "source": [
        "# np.exp(np.sin(t))\n",
        "x3 = np.linspace(0,np.pi,1000)\n",
        "y3 = np.exp(np.sin(x3))\n",
        "plt.title(\" $e^{sin(t)}$\")\n",
        "plt.xlabel('t')\n",
        "plt.ylabel('s(t)')\n",
        "plt.plot(x3, y3) \n",
        "plt.show()"
      ],
      "execution_count": 0,
      "outputs": [
        {
          "output_type": "display_data",
          "data": {
            "image/png": "[encoded data removed]",
            "text/plain": [
              "<Figure size 432x288 with 1 Axes>"
            ]
          },
          "metadata": {
            "tags": [],
            "needs_background": "light"
          }
        }
      ]
    },
    {
      "cell_type": "code",
      "metadata": {
        "id": "Z6BYXvTMxQ5_",
        "colab_type": "code",
        "outputId": "f84e2b35-3767-49b3-cb99-194a58b47a24",
        "colab": {
          "base_uri": "https://localhost:8080/",
          "height": 297
        }
      },
      "source": [
        "#  Numerical result vs number of rectangle for np.exp(np.sin(t))\n",
        "t1 = 6.2169822045908845,6.208840282413958,6.208758858178144,6.208758043935776,6.208758035793367,6.2087580357117975\n",
        "s1 = [1e1,1e2,1e3,1e4,1e5,1e6]\n",
        "plt.plot(s1,t1)\n",
        "plt.title(\"Numerical result vs number of rectangles $e^{sin(t)}$\")\n",
        "plt.xscale(\"log\")\n",
        "plt.xlabel('N')\n",
        "plt.ylabel('Integral Values')\n",
        "plt.tight_layout()"
      ],
      "execution_count": 0,
      "outputs": [
        {
          "output_type": "display_data",
          "data": {
            "image/png": "[encoded data removed]",
            "text/plain": [
              "<Figure size 432x288 with 1 Axes>"
            ]
          },
          "metadata": {
            "tags": [],
            "needs_background": "light"
          }
        }
      ]
    },
    {
      "cell_type": "code",
      "metadata": {
        "id": "jqfZU2-5ayIp",
        "colab_type": "code",
        "outputId": "77f57a00-2fba-4e68-9805-681eee0d4e62",
        "colab": {
          "base_uri": "https://localhost:8080/",
          "height": 319
        }
      },
      "source": [
        "# Absolute Error\n",
        "\n",
        "#y5 = 0.00683962782,0.00130229435,0.00138371859,0.00138453283,0.00138454097,0.0013845410\n",
        "y5 = 0.00814192217,0.00008142423,0.00008223847,8.14240941e-9,8.1569418e-11,8.766321e-13\n",
        "x5 = 1e1,1e2,1e3,1e4,1e5,1e6\n",
        "plt.plot(x5, y5)\n",
        "plt.xscale(\"log\")\n",
        "plt.xlabel('N')\n",
        "plt.ylabel('Absolute Error ')\n",
        "plt.title('Absolute Error vs \\n Number of rectangles for $e^{sin(t)}$')\n",
        "plt.show()"
      ],
      "execution_count": 0,
      "outputs": [
        {
          "output_type": "display_data",
          "data": {
            "image/png": "[encoded data removed]",
            "text/plain": [
              "<Figure size 432x288 with 1 Axes>"
            ]
          },
          "metadata": {
            "tags": [],
            "needs_background": "light"
          }
        }
      ]
    },
    {
      "cell_type": "markdown",
      "metadata": {
        "id": "qipyKjpJZ-nF",
        "colab_type": "text"
      },
      "source": [
        "## **Appendix 2: Trapezoidal Rule** "
      ]
    },
    {
      "cell_type": "markdown",
      "metadata": {
        "id": "Hy131PV8vMZc",
        "colab_type": "text"
      },
      "source": [
        "\n",
        "##Numerical Integration\n",
        "\n",
        "I have used trapezoidal rule [2] for the following code. In mathematics it can be represented in the following way: \n",
        "\n",
        "\n",
        "$ \\int_a^b f(x) dx $ \n",
        "\n",
        "The trapezoidal rule works by approximating the region under the graph of the function, this can be represented as,\n",
        "\n",
        "$ \\int_a^b f(x) dx  $ $\\approx$ $(b-a).\\frac{f(a)+f(b)}{2}$\n",
        "\n",
        "\n",
        "\n",
        "Now, let {$x_k$} be a partition of $[a,b]$\n",
        "\n",
        "$\\Delta$$x_k$ is length of kth subinterval i.e. $\\Delta$$x_k$ = $x_k$ - $x_{k-1}$\n",
        "\n",
        "Finally, \n",
        "\n",
        "$ \\int_a^b f(x) dx  $ $\\approx$ $\\sum_{k=1}^{N} \\frac{f(x_{k-1})+f(x_k)}{2}\\Delta$$x_k $ =  $\\frac {\\Delta x}{2} (f(x_0)+2f(x_1)....+ 2f(x_{N-1})+f(x_N))$\n"
      ]
    },
    {
      "cell_type": "markdown",
      "metadata": {
        "id": "ffbVxMOrro9F",
        "colab_type": "text"
      },
      "source": [
        "# Absolute error for $f(x) = 3x^3+2x^2+x$ (Trapezoidal rule)\n",
        "\n",
        "The absolute error for the third order polynomial can be calculated in following way:\n",
        "\n",
        "1. The step one is to calculate the true value, as the true value for $\\int_0^{10}(3x^3+2x^2+x)dx$ \n",
        "\n",
        "  $= \\frac{x^2(9x^2+8x+6)}{12}+C$\n",
        "\n",
        "  $= \\frac{24650}{3}$\n",
        "  $= 8216.666666666667$ \n",
        "\n",
        "2. Measured Value - True Value = Absolute Error \n",
        "                  \n",
        "  \n",
        " N|Measured Value | True Value      | Absolute Error |\n",
        ":---|:---:|:---:|---:\n",
        " 10|8295.0           |8216.666666666667|78.3333333333  |\n",
        "  $10^2$|8217.449999999966|8216.666666666667|0.78333333329  |\n",
        "  $10^3$|8216.674499999637|8216.666666666667|0.00783333296  |\n",
        "  $10^4$|8216.666745001306|8216.666666666667|0.00007833463  |\n",
        "  $10^5$|8216.66666743609 |8216.666666666667|7.69421604e-7  |\n",
        "  $10^6$|8216.666666302972|8216.666666666667|-3.63696017e-7 |\n",
        "                    ||***Table 5***|"
      ]
    },
    {
      "cell_type": "code",
      "metadata": {
        "id": "yCmrKZrv_lMO",
        "colab_type": "code",
        "colab": {}
      },
      "source": [
        "# using matplotlib.pyplot.tight_layout() ....ref[3] (Trapezoidal Rule)\n",
        "def plot_subplots(a, fontsize=10):\n",
        "    \n",
        "\n",
        "    plt.suptitle(\"Plot 3\",fontsize = 18)\n",
        "    x = np.linspace(0,10,1000)\n",
        "    y = 3*(x**3)+2*(x**2)+x\n",
        "    function_x.plot(x, y) \n",
        "    function_x.set_xlabel('x', fontsize=fontsize)\n",
        "    function_x.set_ylabel('f(x)', fontsize=fontsize)\n",
        "    function_x.set_title('$f(x) = 3x^3+2x^2+x$', fontsize=fontsize)\n",
        "\n",
        "    y1= 78.3333333333, 0.78333333329,0.00783333296,0.00007833463,7.69421604e-7,3.63696017e-7\n",
        "    x1=1e1,1e2,1e3,1e4,1e5,1e6\n",
        "    absError.plot(x1, y1)\n",
        "    absError.set_xscale(\"log\")\n",
        "    absError.set_xlabel('N', fontsize=fontsize)\n",
        "    absError.set_ylabel('Absolute Error', fontsize=fontsize)\n",
        "    absError.set_title('Absolute Error vs \\n Number of rectangles for $3x^3+2x^2+x$', \n",
        "                 fontsize=fontsize)\n",
        "\n",
        "    \n",
        "   \n",
        "    y2 =8295.0,8217.449999999966,8216.674499999637,8216.666745001306,8216.66666743609,8216.666666302972\n",
        "    x2 =1e1,1e2,1e3,1e4,1e5,1e6\n",
        "    \n",
        "    numResult_vs_rect.plot(x2, y2)\n",
        "    numResult_vs_rect.set_xscale(\"log\")\n",
        "    numResult_vs_rect.set_xlabel('N', fontsize=fontsize)\n",
        "    numResult_vs_rect.set_ylabel('Integral Values', fontsize=fontsize)\n",
        "    numResult_vs_rect.set_title('Numerical result vs \\n Number of rectangles for $3x^3+2x^2+x$', \n",
        "                 fontsize=fontsize)\n",
        "    \n",
        "   \n",
        "    \n",
        "\n",
        "    "
      ],
      "execution_count": 0,
      "outputs": []
    },
    {
      "cell_type": "code",
      "metadata": {
        "id": "7f_pHoi-AE9A",
        "colab_type": "code",
        "outputId": "507380e4-922d-4b92-eb42-df0648b07e1e",
        "colab": {
          "base_uri": "https://localhost:8080/",
          "height": 302
        }
      },
      "source": [
        "fig = plt.figure()\n",
        "\n",
        "\n",
        "\n",
        "function_x = plt.subplot(221)\n",
        "absError = plt.subplot(223)\n",
        "numResult_vs_rect = plt.subplot(222)\n",
        "\n",
        "\n",
        "plot_subplots(function_x)\n",
        "plot_subplots(numResult_vs_rect)\n",
        "plot_subplots(absError)\n",
        "plt.tight_layout()"
      ],
      "execution_count": 0,
      "outputs": [
        {
          "output_type": "display_data",
          "data": {
            "image/png": "[encoded data removed]",
            "text/plain": [
              "<Figure size 432x288 with 3 Axes>"
            ]
          },
          "metadata": {
            "tags": [],
            "needs_background": "light"
          }
        }
      ]
    },
    {
      "cell_type": "markdown",
      "metadata": {
        "id": "x-nWMSsNO4cb",
        "colab_type": "text"
      },
      "source": [
        "# Absolute error for $s(t) = e^{sin(t)}$\n",
        "\n",
        "The absolute error for the function can be calculated in following way:\n",
        "\n",
        "1. The step one is to calculate the true value, this will be done by taking the **Mean of the Measured Values** which is: \n",
        "\n",
        "  $\\frac{\\sum Measured\\:Value}{6} = 6.20598887268$\n",
        "\n",
        "2. Measured Value - True Value = Absolute Error \n",
        "\n",
        "N|Measured Value | True Value      | Absolute Error |\n",
        " :---|:---:|:---:|---:\n",
        "10|6.192309212461663|6.20598887268|-0.01367966021\n",
        "$10^2$|6.208593542304937|6.20598887268|0.00260466962\n",
        "$10^3$|6.208756390777073|6.20598887268|0.00276751809\n",
        "$10^4$|6.208758019261313|6.20598887268|0.00276914658\n",
        "$10^5$|6.2087580355452685|6.20598887268|0.00276916286\n",
        "$10^6$|6.2087580357218615|6.20598887268|0.00276916304\n",
        "   |               |***Table 6***|\n",
        "\n"
      ]
    },
    {
      "cell_type": "code",
      "metadata": {
        "id": "JcqwHeCnaOvD",
        "colab_type": "code",
        "colab": {}
      },
      "source": [
        "#using matplotlib.pyplot.tight_layout() ....ref[3] (Trapezoidal Rule)\n",
        "def plot_subplotsForExp(a, fontsize=10):\n",
        "    \n",
        "    plt.suptitle(\"Plot 4\",fontsize = 18)\n",
        "\n",
        "    x3 = np.linspace(0,np.pi,1000)\n",
        "    y3 = np.exp(np.sin(x3)) \n",
        "    function_esin.plot(x3, y3) \n",
        "    function_esin.set_xlabel('t', fontsize=fontsize)\n",
        "    function_esin.set_ylabel('s(t)', fontsize=fontsize)\n",
        "    function_esin.set_title('$e^{sin(t)}$', fontsize=fontsize)\n",
        "    \n",
        "    y4 = 6.192309212461663,6.208593542304937,6.208756390777073,6.208758019261313,6.2087580355452685,6.2087580357218615\n",
        "    x4 = [1e1,1e2,1e3,1e4,1e5,1e6]\n",
        "    numResult_vs_rect_esin.plot(x4,y4)\n",
        "    numResult_vs_rect_esin.set_xscale(\"log\")\n",
        "    numResult_vs_rect_esin.set_xlabel('N', fontsize=fontsize)\n",
        "    numResult_vs_rect_esin.set_ylabel('Integral Values', fontsize=fontsize)\n",
        "    numResult_vs_rect_esin.set_title('Numerical result vs \\n Number of rectangles $e^{sin(t)}$', \n",
        "                 fontsize=fontsize)\n",
        "\n",
        "    y5 = -0.01367966021,0.00260466962,0.00276751809,0.00276914658,0.00276916286,0.00276916304\n",
        "    x5 = 1e1,1e2,1e3,1e4,1e5,1e6\n",
        "    absError_esin.plot(x5, y5)\n",
        "    absError_esin.set_xscale(\"log\")\n",
        "    absError_esin.set_xlabel('N', fontsize=fontsize)\n",
        "    absError_esin.set_ylabel('Absolute Error ', fontsize=fontsize)\n",
        "    absError_esin.set_title('Absolute Error vs \\n Number of rectangles for $e^{sin(t)}$', \n",
        "                 fontsize=fontsize)\n"
      ],
      "execution_count": 0,
      "outputs": []
    },
    {
      "cell_type": "code",
      "metadata": {
        "id": "nLk-fvGVaUy3",
        "colab_type": "code",
        "outputId": "6fd7ca3b-29c7-4d58-e9be-c01f2ae58d7b",
        "colab": {
          "base_uri": "https://localhost:8080/",
          "height": 302
        }
      },
      "source": [
        "fig = plt.figure()\n",
        "\n",
        "function_esin = plt.subplot(221)\n",
        "numResult_vs_rect_esin = plt.subplot(222)\n",
        "absError_esin = plt.subplot(223)\n",
        "\n",
        "plot_subplotsForExp(function_esin)\n",
        "plot_subplotsForExp(numResult_vs_rect_esin)\n",
        "plot_subplotsForExp(absError_esin)\n",
        "plt.tight_layout()"
      ],
      "execution_count": 0,
      "outputs": [
        {
          "output_type": "display_data",
          "data": {
            "image/png": "[encoded data removed]",
            "text/plain": [
              "<Figure size 432x288 with 3 Axes>"
            ]
          },
          "metadata": {
            "tags": [],
            "needs_background": "light"
          }
        }
      ]
    }
  ]
}