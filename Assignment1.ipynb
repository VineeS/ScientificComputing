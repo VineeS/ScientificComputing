{
  "nbformat": 4,
  "nbformat_minor": 0,
  "metadata": {
    "colab": {
      "name": "Assignment1.ipynb",
      "provenance": [],
      "collapsed_sections": [],
      "authorship_tag": "ABX9TyOYBD7xuguuSMbrlDAMqjRa"
    },
    "kernelspec": {
      "name": "python3",
      "display_name": "Python 3"
    }
  },
  "cells": [
    {
      "cell_type": "markdown",
      "metadata": {
        "id": "X9gvglSnubJ6",
        "colab_type": "text"
      },
      "source": [
        "#      Assignment 1\n",
        "## Scientific computing I\n",
        "## Harrisburg University of Science and Technology\n",
        "## By Vinee Shukla"
      ]
    },
    {
      "cell_type": "markdown",
      "metadata": {
        "id": "rpM2oAzKw3Pn",
        "colab_type": "text"
      },
      "source": [
        "# ***Abstract***\n",
        "\n",
        "The main objective of this document is to give a brief introduction on a calculus topic Taylor Series which is also known as iterative method. \n",
        "\n",
        "I will be Showing my thorough study of the iterative method by explaining the derivation of the equation and proving it by using exponential function.\n",
        "\n",
        "It also explains accuracy of this approximation method by calculating the true percent relative error.\n",
        "\n",
        "The next part of this document gives an introduction with python code for plotting the geographical location using Folium and Basemap. To broaden the idea on using various methods of plotting geographical location, I have used Basemap which is a tool and Folium which is a library.\n",
        "\n",
        "In the Final part I have shared my favourite picture with an anecdote about its importance in my life."
      ]
    },
    {
      "cell_type": "markdown",
      "metadata": {
        "id": "0dTupcMaSbyA",
        "colab_type": "text"
      },
      "source": [
        "# ***Introduction***\n",
        "\n",
        "\n",
        "##Taylor series approximation:\n",
        "\n",
        "This is one of the most used method in math, physics and in various fields of engineering. It is one of the most important function for carrying out the approximation function. It can be said that the main function of Taylor series is taking non-polynomial function and giving out the polynomial function. \n",
        "\n",
        "The main purpose of approximation is done by quantitative  estimates in the error. The following equation shows the Taylor Series of real or a complex function $f(x)$ and $a$ is the power series.\n",
        "\n",
        ">$f(a)+\\frac{f'(a)}{1!}(x-a) + \\frac{f''(a)}{2!}(x-a)^2 + \\frac{f'''(a)}{3!}(x-a)^3 + ...$\n",
        "\n",
        "\n",
        "\n",
        "\n",
        "The more generalised form of this equation can be written in following way, where $n!$ shows the factorial of n. Which has a limit of 0 to infinity. \n",
        "\n",
        ">$\\sum_{n=0}^\\infty \\frac{f^{(n)}(a)}{n!}(x-a)^n$\n",
        "\n"
      ]
    },
    {
      "cell_type": "markdown",
      "metadata": {
        "id": "rXAyZEGLgfoy",
        "colab_type": "text"
      },
      "source": [
        "### **Methods: (Exponential)**\n",
        "\n",
        "This is the study of iterative method for error estimation. In the following code the equation is been proved by increasing-order of polynomial. \n",
        "\n",
        "The code is mainly divided into three parts:\n",
        "1. Defining the function for the exponential e^x.\n",
        "\n",
        "2. In the second part the code creates a curve approximation of e^x using 1, 2, 3, 4 and 5 terms. By applying the exponential function defined in the part one.\n",
        "3. The third part calculates the true percent relative error for each term. For finding the true percent relative error the Numpy’s exp is been compared with the calculated value of x.\n",
        "\n",
        ">$e^x= 1 + x + \\frac{x^2}{2!} + \\frac{x^3}{3!} + \\frac{x^4}{4!} + ... + \\frac{x^n}{n!} $  \n",
        "\n",
        "  The above is the eqaution for exponential of x i.e. $e^x$"
      ]
    },
    {
      "cell_type": "code",
      "metadata": {
        "id": "wc4s_btOF14S",
        "colab_type": "code",
        "outputId": "1482c5ea-afa8-49d3-cd38-c97b52067fa0",
        "colab": {
          "base_uri": "https://localhost:8080/",
          "height": 547
        }
      },
      "source": [
        "import math\n",
        "import numpy as NP\n",
        "import matplotlib.pyplot as plt\n",
        "\n",
        "# fuction created for getting the e^x curve\n",
        "def e_x(x,n):\n",
        "    ex = 0\n",
        "    for i in range(n):\n",
        "        coefficent = 1 # e^x = 1\n",
        "        exponent = x**(i)  # e^x = 1+ x^i\n",
        "        denominator = math.factorial(i) # e^x = 1+ x^i/i!\n",
        "        ex += ( coefficent ) * ( (exponent)/(denominator) ) \n",
        "    return ex\n",
        "\n",
        "\n",
        "\n",
        "\n",
        "curv_angles = NP.arange(-2*NP.pi,2*NP.pi,0.1) \n",
        "\n",
        "e_np = NP.exp(curv_angles) # numpy exp function\n",
        "\n",
        "figure, x = plt.subplots() # plotting \n",
        "x.plot(curv_angles,e_np)\n",
        "\n",
        "# add lines for between 1 and 6 terms in the Taylor Series\n",
        "for i in range(1,6):\n",
        "    ans = [e_x(angle,i) for angle in curv_angles] \n",
        "    x.plot(curv_angles,ans)\n",
        "\n",
        "\n",
        "x.set_ylim([0,6]) # y axis\n",
        "x.set_xlim([0,6]) # x axis\n",
        "\n",
        "# Terms 1 - 5 \n",
        "terms = ['e^x']\n",
        "for i in range(1,6):\n",
        "    terms.append(f'Term {i}')\n",
        "x.legend(terms, loc=4)\n",
        "\n",
        "plt.title('Curves for the approximation of $e^x$')\n",
        "plt.show()\n",
        "\n",
        "\n",
        "exponent = 1\n",
        "figure, x = plt.subplots()\n",
        "x.set_ylim([0,6])\n",
        "x.set_xlim([0,6])\n",
        "for i in range(1,6):\n",
        "    x = NP.linspace(0.1,NP.pi,10) # linspace for getting the e^x curve\n",
        "    e_approx = e_x(x,i) # function e_x \n",
        "    e_exp = NP.exp(x) # numpy exp value to compare with x\n",
        "    e_error = abs(e_exp - e_approx) # using true percent relative error \n",
        "    e_error_percentage = (e_error/e_exp)*100  # true percent relative error \n",
        "    plt.plot(curv_angles,e_np)\n",
        "    plt.errorbar(x, e_exp, yerr=e_error_percentage,uplims=True, lolims=True, \n",
        "                 label=f'Term {i}') \n",
        "    # using errorbar for plotting error by passing x & y\n",
        "    \n",
        "    #print(f'{i} terms: Taylor Series approx= {e_approx}, exp calc= {e_exp}, \n",
        "    #error_percentage = {e_error_percentage}')\n",
        "    \n",
        "plt.legend(loc = 'lower right') # plotting the legend to get Term 1, Term 2...\n",
        "# Term 5 printed on lower right corner\n",
        "plt.title('True percent relative error bar plot')\n",
        "plt.show()\n"
      ],
      "execution_count": 0,
      "outputs": [
        {
          "output_type": "display_data",
          "data": {
            "image/png": "[encoded data removed]",
            "text/plain": [
              "<Figure size 432x288 with 1 Axes>"
            ]
          },
          "metadata": {
            "tags": []
          }
        },
        {
          "output_type": "display_data",
          "data": {
            "image/png": "[encoded data removed]",
            "text/plain": [
              "<Figure size 432x288 with 1 Axes>"
            ]
          },
          "metadata": {
            "tags": []
          }
        }
      ]
    },
    {
      "cell_type": "markdown",
      "metadata": {
        "id": "8-_jrW0rjyF2",
        "colab_type": "text"
      },
      "source": [
        "### **Discussion / Summary**\n",
        "\n",
        "Errors introduced from the use of approximations to represent exact mathematical operations and \n",
        "quantities are called Numerical errors. \n",
        "\n",
        "These include truncation errors, errors are those\n",
        "that result from using an approximation in place of an \n",
        "exact mathematical procedure and round-off errors, which result when numbers having limited significant figures are \n",
        "used to represent exact numbers.\n",
        "\n",
        "The relationship between the exact or true result and approximation can be summed as\t\n",
        "\n",
        "\tTrue value =  approximation  + error \t\t\n",
        "\n",
        "We can find that the numerical error by rearranging the equation as\n",
        "\t\n",
        "εt =  true value - approximation \t\n",
        "\n",
        "Where Et is called as True error. To take the order of the magnitude of value under examination we calculate \n",
        "\t \t\t \t\t \t \t\n",
        "True fractional relative error  =   true error / true value\n",
        "And\t\t\n",
        "\t\t\t\t\t\n",
        "True percent relative error, εt  =  (true error / true value) * 100% \n",
        "\n",
        "Now in our calculation of exponential function using taylor series approximation\n",
        "\n",
        "\n",
        "\n",
        "Terms | True Result | Approximation| εt |\n",
        ":---|:---|:---:|---:\n",
        "1     |1.10517092   |1             | 9.51625\n",
        "2     |1.10517092   |1.1           | 0.46788402\n",
        "3     |1.10517092   |1.105         | 0.015465307\n",
        "4     |1.10517092   |1.10516667    | 0.00038468339\n",
        "5     |1.10517092   |1.10517083    | 0.0000076678\n",
        "\n",
        "\n",
        "\n",
        "\n",
        "\n",
        "\t\t\t\n",
        "As more terms are added in sequence, the approximation becomes a better and better estimate of the true value of ex  which is evident in our calculation of True percent relative error shown in the table below. \t \t\t \t\t \t \t \t\t\n",
        "\t\t\t\n",
        "\t\t\t\n",
        "\n",
        "\t\n",
        "We can see that after 5 terms are included, the approximate error falls below 0.05%. \n",
        "\n",
        "It can be concluded that Taylor series methods can give us close approximation value, looking at the percentage of True Percent relative error in the 5th term. The more terms we execute the precision increases.\n"
      ]
    },
    {
      "cell_type": "markdown",
      "metadata": {
        "id": "R5smnNNFl3no",
        "colab_type": "text"
      },
      "source": [
        "### **References**\n",
        "\n",
        "[1] Numerical Methods for Engineers 7th Edition by Steven Chapra\n",
        "\n",
        "[2] wikipedia - https://en.wikipedia.org/wiki/Taylor_series\n",
        "\n",
        "[2] stackoverflow link - https://stackoverflow.com/questions/19990274/sin-with-taylor-series-in-python\n"
      ]
    },
    {
      "cell_type": "markdown",
      "metadata": {
        "id": "jPnUtxuj7R8s",
        "colab_type": "text"
      },
      "source": [
        "### **Appendix 1** **(Geographical Location)**\n",
        "\n",
        "This is the section in which I would like to share geographical location of my current home and birth place.\n",
        "\n",
        "I have used Python language for getting the desired location.I Have used python library – folium. This library can be installed using the following command-\n",
        "\n",
        "pip install folium\n",
        "\n",
        "After installing the libraries the next step is to get the IP address. There are various methods for getting the IP address and with the latitude and longitude of your location. One of them is by using the link - https://ipinfo.io/  .\n",
        "\n",
        "\n",
        "\n",
        "\n",
        "\n",
        "\n",
        "\n"
      ]
    },
    {
      "cell_type": "markdown",
      "metadata": {
        "id": "Ag5wf99gVx00",
        "colab_type": "text"
      },
      "source": [
        "### **FOLIUM**"
      ]
    },
    {
      "cell_type": "markdown",
      "metadata": {
        "id": "RcNCHanpcU3K",
        "colab_type": "text"
      },
      "source": [
        "### **RICHMOND, VA, USA**"
      ]
    },
    {
      "cell_type": "code",
      "metadata": {
        "id": "SktVoP16RPkr",
        "colab_type": "code",
        "colab": {}
      },
      "source": [
        "# Following code is used to get your current location\n",
        "import folium\n",
        "\n",
        "my_location = folium.Map(\n",
        "    location=[37.647465 , -77.624969],\n",
        "    zoom_start=7,\n",
        "    tiles='Stamen Terrain'\n",
        ")\n",
        "\n",
        "tooltip = 'Click Here'\n",
        "\n",
        "folium.Marker([37.647465 , -77.624969], popup='<b>My Current location</b>', \n",
        "              tooltip=tooltip).add_to(my_location)\n",
        "my_location"
      ],
      "execution_count": 0,
      "outputs": []
    },
    {
      "cell_type": "markdown",
      "metadata": {
        "id": "-bol1pOp7qbr",
        "colab_type": "text"
      },
      "source": [
        "![](https://drive.google.com/uc?id=1d1WpUoYUaz5cH0HEgL6Zw2L5DuDbxjov)"
      ]
    },
    {
      "cell_type": "markdown",
      "metadata": {
        "colab_type": "text",
        "id": "DNiLNWKzb-0S"
      },
      "source": [
        "### **Nagpur, INDIA**\n",
        "\n"
      ]
    },
    {
      "cell_type": "code",
      "metadata": {
        "colab_type": "code",
        "id": "JFBHpX0eb-0K",
        "colab": {}
      },
      "source": [
        "# Following code is to get my original home location\n",
        "import folium\n",
        "\n",
        "my_original_home = folium.Map(\n",
        "    location=[21.1397 , 79.0631],\n",
        "    zoom_start=7,\n",
        "    tiles='Stamen Terrain'\n",
        ")\n",
        "\n",
        "tooltip = 'Click Here'\n",
        "\n",
        "folium.Marker([21.1397 , 79.0631], popup='<b>My Current location</b>', \n",
        "              tooltip=tooltip).add_to(my_original_home)\n",
        "my_original_home"
      ],
      "execution_count": 0,
      "outputs": []
    },
    {
      "cell_type": "markdown",
      "metadata": {
        "id": "MbVcfo6j9hlt",
        "colab_type": "text"
      },
      "source": [
        "![](https://drive.google.com/uc?id=1xTV4KF3hvX4pFtG6F01IpI0UvjEgD1DH)"
      ]
    },
    {
      "cell_type": "markdown",
      "metadata": {
        "id": "O8vtA-IuTS66",
        "colab_type": "text"
      },
      "source": [
        "### **BASEMAP**\n",
        "As seen have done the previous code using folium. There are other ways to create a map like by using matplotlib toolkit basemap. \n",
        "\n",
        "There are various projections in which a Map can be created like Robinson Projection, Hammer Projection, Miller Cylindrical Projection, Cylindrial Equal-Area Projection, Orthographic Projection, many more. I will be using Miller Cylindrical Projection for plotting the map.\n"
      ]
    },
    {
      "cell_type": "code",
      "metadata": {
        "id": "NuWcUApp5mWv",
        "colab_type": "code",
        "colab": {}
      },
      "source": [
        "from mpl_toolkits.basemap import Basemap\n",
        "import numpy as np\n",
        "import matplotlib.pyplot as plt\n",
        "# urcrnrlat,urcrnrlon,llcrnrlat,llcrnrlon\n",
        "# are the lattitude and longitude values of the lower left and upper right corners\n",
        "# of the map.\n",
        "# resolution = 'c' means use crude resolution coastlines.\n",
        "\n",
        "cur_loc = Basemap(projection='mill',\n",
        "            llcrnrlat=37.647465-10.0,\n",
        "            urcrnrlat=37.647465+10.0,\n",
        "            llcrnrlon=-77.624969-10.0,\n",
        "            urcrnrlon=-77.624969+10.0,\n",
        "            resolution='c') # Miller Cylindrical Projection\n",
        "#cur_loc.drawcoastlines()\n",
        "# manually given the color on the map\n",
        "#cur_loc.fillcontinents(color='white',lake_color='aqua') \n",
        "cur_loc.drawcountries(color = 'red') # bouder seperating the countries\n",
        "cur_loc.drawstates(color= 'green') # bouder seperating the states\n",
        "cur_loc.drawparallels(np.arange(-90.,91.,30.))\n",
        "cur_loc.drawmeridians(np.arange(-180.,181.,60.))\n",
        "#cur_loc.drawmapboundary(fill_color='aqua')\n",
        "cur_loc.etopo() #  types of map format etopo, bluemarble, shadedrelief\n",
        "#cur_loc.bluemarble()\n",
        "#cur_loc.shadedrelief()\n",
        "\n",
        "# create a dot for my current location\n",
        "cur_loc_x, cur_loc_y = cur_loc(-77.624969,37.647465 ) \n",
        "m.plot(cur_loc_x,cur_loc_y, 'bo')\n",
        "\n",
        "plt.title(\"RICHMOND, VIRGINIA\")\n",
        "\n",
        "plt.show()"
      ],
      "execution_count": 0,
      "outputs": []
    },
    {
      "cell_type": "markdown",
      "metadata": {
        "id": "kmf5HhRr_65n",
        "colab_type": "text"
      },
      "source": [
        "![](https://drive.google.com/uc?id=1Tr76qxmUpCqvnv7aRp-aSvm1GRrOlVZY)"
      ]
    },
    {
      "cell_type": "code",
      "metadata": {
        "id": "b1m-qemk_3s5",
        "colab_type": "code",
        "colab": {}
      },
      "source": [
        "from mpl_toolkits.basemap import Basemap\n",
        "import numpy as np\n",
        "import matplotlib.pyplot as plt\n",
        "# urcrnrlat,urcrnrlon,llcrnrlat,llcrnrlon\n",
        "# are the lattitude and longitude values of the lower left and upper right corners\n",
        "# of the map.\n",
        "# resolution = 'c' means use crude resolution coastlines.\n",
        "#21.1397 , 79.0631\n",
        "home_loc = Basemap(projection='mill',\n",
        "            llcrnrlat=21.1397-10.0,\n",
        "            urcrnrlat=21.1397+10.0,\n",
        "            llcrnrlon=79.0631-10.0,\n",
        "            urcrnrlon=79.0631+10.0,\n",
        "            resolution='c') # Miller Cylindrical Projection\n",
        "#home_loc.drawcoastlines()\n",
        "# manually given the color on the map\n",
        "#home_loc.fillcontinents(color='white',lake_color='aqua') \n",
        "home_loc.drawcountries(color = 'red') # bouder seperating the countries\n",
        "home_loc.drawstates(color= 'green') # bouder seperating the states\n",
        "home_loc.drawparallels(np.arange(-90.,91.,30.))\n",
        "home_loc.drawmeridians(np.arange(-180.,181.,60.))\n",
        "#home_loc.drawmapboundary(fill_color='aqua')\n",
        "home_loc.etopo() #  types of map format etopo, bluemarble, shadedrelief\n",
        "#home_loc.bluemarble()\n",
        "#home_loc.shadedrelief()\n",
        "\n",
        "home_loc_x, home_loc_y = home_loc(79.0631,21.1397 ) \n",
        "home_loc.plot(home_loc_x,home_loc_y, 'bo')\n",
        "\n",
        "plt.title(\"NAGPUR, MAHARASHTRA, INDIA\")\n",
        "\n",
        "plt.show()"
      ],
      "execution_count": 0,
      "outputs": []
    },
    {
      "cell_type": "markdown",
      "metadata": {
        "id": "25asuwhK_7xq",
        "colab_type": "text"
      },
      "source": [
        "![](https://drive.google.com/uc?id=1Udlhjaih7mhRfqEjzm6GJEMIf4EbVIKH)"
      ]
    },
    {
      "cell_type": "markdown",
      "metadata": {
        "id": "YE8arZJLM6uy",
        "colab_type": "text"
      },
      "source": [
        "### **Appendix II - A picture of one of my favourite location**\n",
        "\n",
        "This picture is taken in Little French Key, Roaton, Hondorus. \n",
        "The reason this is the most the special and important picture to me is because it was the first time I went on cruise ship with my husband and it has is significance to me is because it was our first anniversary. \n",
        "\n",
        "Roaton, Hondorous was our first destination in our itinerary. \n",
        "Little French Key has breathtaking view, with the water clear as a glass. This was the first time I have seen something so beautiful in my whole life. \n",
        "\n",
        "This is the reason why I wanted to share this picture.\n",
        "![](https://drive.google.com/uc?id=1Lzpletrlycc1sO-7rBjqTr1d5TNDuODY)"
      ]
    }
  ]
}